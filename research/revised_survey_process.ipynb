{
 "cells": [
  {
   "cell_type": "code",
   "execution_count": null,
   "metadata": {},
   "outputs": [],
   "source": [
    "import pandas as pd\n",
    "import numpy as np\n",
    "from autocorrect import spell # autocorrect information\n",
    "import spacy # might useless - but is a useful package to implement < - \n",
    "from tqdm.auto import tqdm\n",
    "import helper\n",
    "from helper import *\n",
    "import plotly.graph_objects as go\n",
    "import plotly.express as px\n",
    "#tqdm.pandas()"
   ]
  },
  {
   "cell_type": "code",
   "execution_count": null,
   "metadata": {},
   "outputs": [],
   "source": [
    "input_survey=pd.read_csv('../data/WebsiteSatisfaction.csv')\n",
    "#start to rename the csv hard coding - throw exception if the required schema in the csv doesnt exist\n",
    "#drop the na and tell the business to get fucked \n",
    "input_survey.dropna(inplace=True)"
   ]
  },
  {
   "cell_type": "code",
   "execution_count": null,
   "metadata": {},
   "outputs": [],
   "source": [
    "import importlib\n",
    "importlib.reload(helper)"
   ]
  },
  {
   "cell_type": "markdown",
   "metadata": {},
   "source": [
    "# data engineering portion"
   ]
  },
  {
   "cell_type": "code",
   "execution_count": null,
   "metadata": {},
   "outputs": [],
   "source": [
    "#first implementation of pipe for pandas\n",
    "input_processed = (input_survey.\n",
    "pipe(spell_chcker,['Comments']).\n",
    "pipe(text_blob_polarity_semantic_eng,['Comments_spell_checked']).\n",
    "pipe(time_stamp_cleaner, 'ActivityCompleted')\n",
    ")"
   ]
  },
  {
   "cell_type": "code",
   "execution_count": null,
   "metadata": {},
   "outputs": [],
   "source": [
    "from classifier import TopicClassifier\n",
    "tags = [\"User Experience\", \"customer service\", \"equipment availability\", \n",
    "\"pricing error\", \n",
    "\"incorrect information\", \n",
    "\"login\", \n",
    "\"transaction\",\n",
    "\"complexity\"]\n",
    "zero_shot=TopicClassifier(tags) #model init first time is ruff."
   ]
  },
  {
   "cell_type": "code",
   "execution_count": null,
   "metadata": {},
   "outputs": [],
   "source": [
    "# topic classifier\n",
    "# input_processed[\"topic\"] = input_processed['Comments_spell_checked'].apply(zero_shot.top_prediction)"
   ]
  },
  {
   "cell_type": "markdown",
   "metadata": {},
   "source": [
    "# visualiation building"
   ]
  },
  {
   "cell_type": "code",
   "execution_count": null,
   "metadata": {},
   "outputs": [],
   "source": [
    "input_survey = pd.read_csv('../data/cleaned_data.csv')"
   ]
  },
  {
   "cell_type": "code",
   "execution_count": null,
   "metadata": {},
   "outputs": [],
   "source": [
    "# charts and basic information that people might care about ->\n",
    "nps_best=' '.join(input_survey[input_survey['nps_score'] > 3 ].nlargest(n=50, columns=['Comments_spell_checked_txtblob_polarity','Comments_spell_checked_txtblob_polarity_subjectivity'])['Comments'])\n",
    "nps_worse=' '.join(input_survey[input_survey['nps_score'] < 3 ].nsmallest(n=50, columns=['Comments_spell_checked_txtblob_polarity','Comments_spell_checked_txtblob_polarity_subjectivity'])['Comments'])\n",
    "#destribute that text blurb to people about the issues occuring"
   ]
  },
  {
   "cell_type": "code",
   "execution_count": null,
   "metadata": {},
   "outputs": [],
   "source": [
    "sentiment_chart=input_survey.groupby('Sentiment').size()\n",
    "fig = px.pie(values=sentiment_chart,names=sentiment_chart.index,title='Semantic Count Overall')\n",
    "fig.show()"
   ]
  },
  {
   "cell_type": "code",
   "execution_count": null,
   "metadata": {},
   "outputs": [],
   "source": [
    "import plotly.graph_objects as go\n",
    "import plotly.express as px\n",
    "mean_nps_time=input_survey.groupby('ActivityCompleted').mean()\n",
    "fig = go.Figure(\n",
    "    [go.Scatter(x=mean_nps_time.index, y=mean_nps_time['nps_score'])],\n",
    "    layout=go.Layout(\n",
    "    title=go.layout.Title(text=\"Average Satisfaction Score\")\n",
    "    )  \n",
    ")\n",
    "fig.show()"
   ]
  },
  {
   "cell_type": "code",
   "execution_count": 154,
   "metadata": {},
   "outputs": [
    {
     "data": {
      "text/html": [
       "<div>\n",
       "<style scoped>\n",
       "    .dataframe tbody tr th:only-of-type {\n",
       "        vertical-align: middle;\n",
       "    }\n",
       "\n",
       "    .dataframe tbody tr th {\n",
       "        vertical-align: top;\n",
       "    }\n",
       "\n",
       "    .dataframe thead th {\n",
       "        text-align: right;\n",
       "    }\n",
       "</style>\n",
       "<table border=\"1\" class=\"dataframe\">\n",
       "  <thead>\n",
       "    <tr style=\"text-align: right;\">\n",
       "      <th></th>\n",
       "      <th>ActivityCompleted</th>\n",
       "      <th>Status</th>\n",
       "      <th>nps_score</th>\n",
       "      <th>Comments</th>\n",
       "      <th>Sentiment</th>\n",
       "      <th>Device Type</th>\n",
       "      <th>Browser</th>\n",
       "      <th>Comments_spell_checked</th>\n",
       "      <th>Comments_spell_checked_textblob_polarity_score</th>\n",
       "      <th>Comments_spell_checked_txtblob_polarity</th>\n",
       "      <th>Comments_spell_checked_txtblob_polarity_subjectivity</th>\n",
       "      <th>topic</th>\n",
       "      <th>id</th>\n",
       "    </tr>\n",
       "  </thead>\n",
       "  <tbody>\n",
       "    <tr>\n",
       "      <th>0</th>\n",
       "      <td>2022-08-31</td>\n",
       "      <td>Complete</td>\n",
       "      <td>5.0</td>\n",
       "      <td>Zz u CB\\nM.   L🛖🛖🛖🛖</td>\n",
       "      <td>Neutral</td>\n",
       "      <td>Mobile</td>\n",
       "      <td>Google App</td>\n",
       "      <td>Zz u B M. L🛖🛖🛖🛖</td>\n",
       "      <td>Sentiment(polarity=0.0, subjectivity=0.0)</td>\n",
       "      <td>0.000000</td>\n",
       "      <td>0.000000</td>\n",
       "      <td>transaction</td>\n",
       "      <td>0</td>\n",
       "    </tr>\n",
       "    <tr>\n",
       "      <th>1</th>\n",
       "      <td>2022-08-31</td>\n",
       "      <td>Complete</td>\n",
       "      <td>5.0</td>\n",
       "      <td>I am hoping that 1 out of 5\\nbeing 1 bad and 5...</td>\n",
       "      <td>Mixed</td>\n",
       "      <td>Desktop</td>\n",
       "      <td>Chrome</td>\n",
       "      <td>I am hoping that 1 out of 5 being 1 bad and 5 ...</td>\n",
       "      <td>Sentiment(polarity=-0.11666666666666663, subje...</td>\n",
       "      <td>-0.116667</td>\n",
       "      <td>0.755556</td>\n",
       "      <td>incorrect information</td>\n",
       "      <td>1</td>\n",
       "    </tr>\n",
       "    <tr>\n",
       "      <th>2</th>\n",
       "      <td>2022-08-31</td>\n",
       "      <td>Complete</td>\n",
       "      <td>3.0</td>\n",
       "      <td>command center is slo processing payment</td>\n",
       "      <td>Negative</td>\n",
       "      <td>Desktop</td>\n",
       "      <td>Chrome</td>\n",
       "      <td>command center is slo processing payment</td>\n",
       "      <td>Sentiment(polarity=-0.1, subjectivity=0.1)</td>\n",
       "      <td>-0.100000</td>\n",
       "      <td>0.100000</td>\n",
       "      <td>transaction</td>\n",
       "      <td>2</td>\n",
       "    </tr>\n",
       "    <tr>\n",
       "      <th>3</th>\n",
       "      <td>2022-08-31</td>\n",
       "      <td>Complete</td>\n",
       "      <td>5.0</td>\n",
       "      <td>Great website easy to use</td>\n",
       "      <td>Positive</td>\n",
       "      <td>Mobile</td>\n",
       "      <td>Safari mobile</td>\n",
       "      <td>Great website easy to use</td>\n",
       "      <td>Sentiment(polarity=0.6166666666666667, subject...</td>\n",
       "      <td>0.616667</td>\n",
       "      <td>0.791667</td>\n",
       "      <td>User Experience</td>\n",
       "      <td>3</td>\n",
       "    </tr>\n",
       "    <tr>\n",
       "      <th>4</th>\n",
       "      <td>2022-08-31</td>\n",
       "      <td>Complete</td>\n",
       "      <td>4.0</td>\n",
       "      <td>Because nothing is perfect...otherwise a \"5\"</td>\n",
       "      <td>Mixed</td>\n",
       "      <td>Desktop</td>\n",
       "      <td>Chrome</td>\n",
       "      <td>Because nothing is perfect...otherwise a \"5\"</td>\n",
       "      <td>Sentiment(polarity=0.0, subjectivity=0.0)</td>\n",
       "      <td>0.000000</td>\n",
       "      <td>0.000000</td>\n",
       "      <td>User Experience</td>\n",
       "      <td>4</td>\n",
       "    </tr>\n",
       "  </tbody>\n",
       "</table>\n",
       "</div>"
      ],
      "text/plain": [
       "  ActivityCompleted    Status  nps_score  \\\n",
       "0        2022-08-31  Complete        5.0   \n",
       "1        2022-08-31  Complete        5.0   \n",
       "2        2022-08-31  Complete        3.0   \n",
       "3        2022-08-31  Complete        5.0   \n",
       "4        2022-08-31  Complete        4.0   \n",
       "\n",
       "                                            Comments Sentiment Device Type  \\\n",
       "0                                Zz u CB\\nM.   L🛖🛖🛖🛖   Neutral      Mobile   \n",
       "1  I am hoping that 1 out of 5\\nbeing 1 bad and 5...     Mixed     Desktop   \n",
       "2           command center is slo processing payment  Negative     Desktop   \n",
       "3                          Great website easy to use  Positive      Mobile   \n",
       "4       Because nothing is perfect...otherwise a \"5\"     Mixed     Desktop   \n",
       "\n",
       "         Browser                             Comments_spell_checked  \\\n",
       "0     Google App                                    Zz u B M. L🛖🛖🛖🛖   \n",
       "1         Chrome  I am hoping that 1 out of 5 being 1 bad and 5 ...   \n",
       "2         Chrome           command center is slo processing payment   \n",
       "3  Safari mobile                          Great website easy to use   \n",
       "4         Chrome       Because nothing is perfect...otherwise a \"5\"   \n",
       "\n",
       "      Comments_spell_checked_textblob_polarity_score  \\\n",
       "0          Sentiment(polarity=0.0, subjectivity=0.0)   \n",
       "1  Sentiment(polarity=-0.11666666666666663, subje...   \n",
       "2         Sentiment(polarity=-0.1, subjectivity=0.1)   \n",
       "3  Sentiment(polarity=0.6166666666666667, subject...   \n",
       "4          Sentiment(polarity=0.0, subjectivity=0.0)   \n",
       "\n",
       "   Comments_spell_checked_txtblob_polarity  \\\n",
       "0                                 0.000000   \n",
       "1                                -0.116667   \n",
       "2                                -0.100000   \n",
       "3                                 0.616667   \n",
       "4                                 0.000000   \n",
       "\n",
       "   Comments_spell_checked_txtblob_polarity_subjectivity  \\\n",
       "0                                           0.000000      \n",
       "1                                           0.755556      \n",
       "2                                           0.100000      \n",
       "3                                           0.791667      \n",
       "4                                           0.000000      \n",
       "\n",
       "                   topic  id  \n",
       "0            transaction   0  \n",
       "1  incorrect information   1  \n",
       "2            transaction   2  \n",
       "3        User Experience   3  \n",
       "4        User Experience   4  "
      ]
     },
     "execution_count": 154,
     "metadata": {},
     "output_type": "execute_result"
    }
   ],
   "source": [
    "input_survey.head()"
   ]
  },
  {
   "cell_type": "code",
   "execution_count": 152,
   "metadata": {},
   "outputs": [],
   "source": [
    "topic_graph=input_survey.groupby(['topic', 'Sentiment']).count()\n",
    "topic_graph.reset_index(inplace=True)\n",
    "topic_graph=topic_graph.pivot(index='topic', columns='Sentiment', values='ActivityCompleted')\n",
    "topic_graph.reset_index(inplace=True)"
   ]
  },
  {
   "cell_type": "code",
   "execution_count": 166,
   "metadata": {},
   "outputs": [],
   "source": [
    "topic_graph=pd.crosstab(input_survey.topic, input_survey.Sentiment ,normalize = 'index')\n",
    "topic_graph.reset_index(inplace=True)"
   ]
  },
  {
   "cell_type": "code",
   "execution_count": 167,
   "metadata": {},
   "outputs": [
    {
     "data": {
      "application/vnd.plotly.v1+json": {
       "config": {
        "plotlyServerURL": "https://plot.ly"
       },
       "data": [
        {
         "alignmentgroup": "True",
         "hovertemplate": "variable=Positive<br>topic=%{x}<br>value=%{y}<extra></extra>",
         "legendgroup": "Positive",
         "marker": {
          "color": "#636efa",
          "pattern": {
           "shape": ""
          }
         },
         "name": "Positive",
         "offsetgroup": "Positive",
         "orientation": "v",
         "showlegend": true,
         "textposition": "auto",
         "type": "bar",
         "x": [
          "User Experience",
          "complexity",
          "customer service",
          "equipment availability",
          "incorrect information",
          "login",
          "pricing error",
          "transaction"
         ],
         "xaxis": "x",
         "y": [
          0.7213114754098361,
          0.02717391304347826,
          0.679324894514768,
          0.4831932773109244,
          0.02142857142857143,
          0.4605263157894737,
          0.11538461538461539,
          0.3316831683168317
         ],
         "yaxis": "y"
        },
        {
         "alignmentgroup": "True",
         "hovertemplate": "variable=Neutral<br>topic=%{x}<br>value=%{y}<extra></extra>",
         "legendgroup": "Neutral",
         "marker": {
          "color": "#EF553B",
          "pattern": {
           "shape": ""
          }
         },
         "name": "Neutral",
         "offsetgroup": "Neutral",
         "orientation": "v",
         "showlegend": true,
         "textposition": "auto",
         "type": "bar",
         "x": [
          "User Experience",
          "complexity",
          "customer service",
          "equipment availability",
          "incorrect information",
          "login",
          "pricing error",
          "transaction"
         ],
         "xaxis": "x",
         "y": [
          0.05170239596469105,
          0.1983695652173913,
          0.07805907172995781,
          0.13445378151260504,
          0.07857142857142857,
          0.25,
          0.038461538461538464,
          0.18316831683168316
         ],
         "yaxis": "y"
        },
        {
         "alignmentgroup": "True",
         "hovertemplate": "variable=Mixed<br>topic=%{x}<br>value=%{y}<extra></extra>",
         "legendgroup": "Mixed",
         "marker": {
          "color": "#00cc96",
          "pattern": {
           "shape": ""
          }
         },
         "name": "Mixed",
         "offsetgroup": "Mixed",
         "orientation": "v",
         "showlegend": true,
         "textposition": "auto",
         "type": "bar",
         "x": [
          "User Experience",
          "complexity",
          "customer service",
          "equipment availability",
          "incorrect information",
          "login",
          "pricing error",
          "transaction"
         ],
         "xaxis": "x",
         "y": [
          0.025220680958385876,
          0.03804347826086957,
          0.029535864978902954,
          0.046218487394957986,
          0.04285714285714286,
          0.02631578947368421,
          0.11538461538461539,
          0.0297029702970297
         ],
         "yaxis": "y"
        },
        {
         "alignmentgroup": "True",
         "hovertemplate": "variable=Negative<br>topic=%{x}<br>value=%{y}<extra></extra>",
         "legendgroup": "Negative",
         "marker": {
          "color": "#ab63fa",
          "pattern": {
           "shape": ""
          }
         },
         "name": "Negative",
         "offsetgroup": "Negative",
         "orientation": "v",
         "showlegend": true,
         "textposition": "auto",
         "type": "bar",
         "x": [
          "User Experience",
          "complexity",
          "customer service",
          "equipment availability",
          "incorrect information",
          "login",
          "pricing error",
          "transaction"
         ],
         "xaxis": "x",
         "y": [
          0.201765447667087,
          0.7364130434782609,
          0.21308016877637131,
          0.33613445378151263,
          0.8571428571428571,
          0.2631578947368421,
          0.7307692307692307,
          0.45544554455445546
         ],
         "yaxis": "y"
        }
       ],
       "layout": {
        "barmode": "relative",
        "legend": {
         "title": {
          "text": "variable"
         },
         "tracegroupgap": 0
        },
        "template": {
         "data": {
          "bar": [
           {
            "error_x": {
             "color": "#2a3f5f"
            },
            "error_y": {
             "color": "#2a3f5f"
            },
            "marker": {
             "line": {
              "color": "#E5ECF6",
              "width": 0.5
             },
             "pattern": {
              "fillmode": "overlay",
              "size": 10,
              "solidity": 0.2
             }
            },
            "type": "bar"
           }
          ],
          "barpolar": [
           {
            "marker": {
             "line": {
              "color": "#E5ECF6",
              "width": 0.5
             },
             "pattern": {
              "fillmode": "overlay",
              "size": 10,
              "solidity": 0.2
             }
            },
            "type": "barpolar"
           }
          ],
          "carpet": [
           {
            "aaxis": {
             "endlinecolor": "#2a3f5f",
             "gridcolor": "white",
             "linecolor": "white",
             "minorgridcolor": "white",
             "startlinecolor": "#2a3f5f"
            },
            "baxis": {
             "endlinecolor": "#2a3f5f",
             "gridcolor": "white",
             "linecolor": "white",
             "minorgridcolor": "white",
             "startlinecolor": "#2a3f5f"
            },
            "type": "carpet"
           }
          ],
          "choropleth": [
           {
            "colorbar": {
             "outlinewidth": 0,
             "ticks": ""
            },
            "type": "choropleth"
           }
          ],
          "contour": [
           {
            "colorbar": {
             "outlinewidth": 0,
             "ticks": ""
            },
            "colorscale": [
             [
              0,
              "#0d0887"
             ],
             [
              0.1111111111111111,
              "#46039f"
             ],
             [
              0.2222222222222222,
              "#7201a8"
             ],
             [
              0.3333333333333333,
              "#9c179e"
             ],
             [
              0.4444444444444444,
              "#bd3786"
             ],
             [
              0.5555555555555556,
              "#d8576b"
             ],
             [
              0.6666666666666666,
              "#ed7953"
             ],
             [
              0.7777777777777778,
              "#fb9f3a"
             ],
             [
              0.8888888888888888,
              "#fdca26"
             ],
             [
              1,
              "#f0f921"
             ]
            ],
            "type": "contour"
           }
          ],
          "contourcarpet": [
           {
            "colorbar": {
             "outlinewidth": 0,
             "ticks": ""
            },
            "type": "contourcarpet"
           }
          ],
          "heatmap": [
           {
            "colorbar": {
             "outlinewidth": 0,
             "ticks": ""
            },
            "colorscale": [
             [
              0,
              "#0d0887"
             ],
             [
              0.1111111111111111,
              "#46039f"
             ],
             [
              0.2222222222222222,
              "#7201a8"
             ],
             [
              0.3333333333333333,
              "#9c179e"
             ],
             [
              0.4444444444444444,
              "#bd3786"
             ],
             [
              0.5555555555555556,
              "#d8576b"
             ],
             [
              0.6666666666666666,
              "#ed7953"
             ],
             [
              0.7777777777777778,
              "#fb9f3a"
             ],
             [
              0.8888888888888888,
              "#fdca26"
             ],
             [
              1,
              "#f0f921"
             ]
            ],
            "type": "heatmap"
           }
          ],
          "heatmapgl": [
           {
            "colorbar": {
             "outlinewidth": 0,
             "ticks": ""
            },
            "colorscale": [
             [
              0,
              "#0d0887"
             ],
             [
              0.1111111111111111,
              "#46039f"
             ],
             [
              0.2222222222222222,
              "#7201a8"
             ],
             [
              0.3333333333333333,
              "#9c179e"
             ],
             [
              0.4444444444444444,
              "#bd3786"
             ],
             [
              0.5555555555555556,
              "#d8576b"
             ],
             [
              0.6666666666666666,
              "#ed7953"
             ],
             [
              0.7777777777777778,
              "#fb9f3a"
             ],
             [
              0.8888888888888888,
              "#fdca26"
             ],
             [
              1,
              "#f0f921"
             ]
            ],
            "type": "heatmapgl"
           }
          ],
          "histogram": [
           {
            "marker": {
             "pattern": {
              "fillmode": "overlay",
              "size": 10,
              "solidity": 0.2
             }
            },
            "type": "histogram"
           }
          ],
          "histogram2d": [
           {
            "colorbar": {
             "outlinewidth": 0,
             "ticks": ""
            },
            "colorscale": [
             [
              0,
              "#0d0887"
             ],
             [
              0.1111111111111111,
              "#46039f"
             ],
             [
              0.2222222222222222,
              "#7201a8"
             ],
             [
              0.3333333333333333,
              "#9c179e"
             ],
             [
              0.4444444444444444,
              "#bd3786"
             ],
             [
              0.5555555555555556,
              "#d8576b"
             ],
             [
              0.6666666666666666,
              "#ed7953"
             ],
             [
              0.7777777777777778,
              "#fb9f3a"
             ],
             [
              0.8888888888888888,
              "#fdca26"
             ],
             [
              1,
              "#f0f921"
             ]
            ],
            "type": "histogram2d"
           }
          ],
          "histogram2dcontour": [
           {
            "colorbar": {
             "outlinewidth": 0,
             "ticks": ""
            },
            "colorscale": [
             [
              0,
              "#0d0887"
             ],
             [
              0.1111111111111111,
              "#46039f"
             ],
             [
              0.2222222222222222,
              "#7201a8"
             ],
             [
              0.3333333333333333,
              "#9c179e"
             ],
             [
              0.4444444444444444,
              "#bd3786"
             ],
             [
              0.5555555555555556,
              "#d8576b"
             ],
             [
              0.6666666666666666,
              "#ed7953"
             ],
             [
              0.7777777777777778,
              "#fb9f3a"
             ],
             [
              0.8888888888888888,
              "#fdca26"
             ],
             [
              1,
              "#f0f921"
             ]
            ],
            "type": "histogram2dcontour"
           }
          ],
          "mesh3d": [
           {
            "colorbar": {
             "outlinewidth": 0,
             "ticks": ""
            },
            "type": "mesh3d"
           }
          ],
          "parcoords": [
           {
            "line": {
             "colorbar": {
              "outlinewidth": 0,
              "ticks": ""
             }
            },
            "type": "parcoords"
           }
          ],
          "pie": [
           {
            "automargin": true,
            "type": "pie"
           }
          ],
          "scatter": [
           {
            "fillpattern": {
             "fillmode": "overlay",
             "size": 10,
             "solidity": 0.2
            },
            "type": "scatter"
           }
          ],
          "scatter3d": [
           {
            "line": {
             "colorbar": {
              "outlinewidth": 0,
              "ticks": ""
             }
            },
            "marker": {
             "colorbar": {
              "outlinewidth": 0,
              "ticks": ""
             }
            },
            "type": "scatter3d"
           }
          ],
          "scattercarpet": [
           {
            "marker": {
             "colorbar": {
              "outlinewidth": 0,
              "ticks": ""
             }
            },
            "type": "scattercarpet"
           }
          ],
          "scattergeo": [
           {
            "marker": {
             "colorbar": {
              "outlinewidth": 0,
              "ticks": ""
             }
            },
            "type": "scattergeo"
           }
          ],
          "scattergl": [
           {
            "marker": {
             "colorbar": {
              "outlinewidth": 0,
              "ticks": ""
             }
            },
            "type": "scattergl"
           }
          ],
          "scattermapbox": [
           {
            "marker": {
             "colorbar": {
              "outlinewidth": 0,
              "ticks": ""
             }
            },
            "type": "scattermapbox"
           }
          ],
          "scatterpolar": [
           {
            "marker": {
             "colorbar": {
              "outlinewidth": 0,
              "ticks": ""
             }
            },
            "type": "scatterpolar"
           }
          ],
          "scatterpolargl": [
           {
            "marker": {
             "colorbar": {
              "outlinewidth": 0,
              "ticks": ""
             }
            },
            "type": "scatterpolargl"
           }
          ],
          "scatterternary": [
           {
            "marker": {
             "colorbar": {
              "outlinewidth": 0,
              "ticks": ""
             }
            },
            "type": "scatterternary"
           }
          ],
          "surface": [
           {
            "colorbar": {
             "outlinewidth": 0,
             "ticks": ""
            },
            "colorscale": [
             [
              0,
              "#0d0887"
             ],
             [
              0.1111111111111111,
              "#46039f"
             ],
             [
              0.2222222222222222,
              "#7201a8"
             ],
             [
              0.3333333333333333,
              "#9c179e"
             ],
             [
              0.4444444444444444,
              "#bd3786"
             ],
             [
              0.5555555555555556,
              "#d8576b"
             ],
             [
              0.6666666666666666,
              "#ed7953"
             ],
             [
              0.7777777777777778,
              "#fb9f3a"
             ],
             [
              0.8888888888888888,
              "#fdca26"
             ],
             [
              1,
              "#f0f921"
             ]
            ],
            "type": "surface"
           }
          ],
          "table": [
           {
            "cells": {
             "fill": {
              "color": "#EBF0F8"
             },
             "line": {
              "color": "white"
             }
            },
            "header": {
             "fill": {
              "color": "#C8D4E3"
             },
             "line": {
              "color": "white"
             }
            },
            "type": "table"
           }
          ]
         },
         "layout": {
          "annotationdefaults": {
           "arrowcolor": "#2a3f5f",
           "arrowhead": 0,
           "arrowwidth": 1
          },
          "autotypenumbers": "strict",
          "coloraxis": {
           "colorbar": {
            "outlinewidth": 0,
            "ticks": ""
           }
          },
          "colorscale": {
           "diverging": [
            [
             0,
             "#8e0152"
            ],
            [
             0.1,
             "#c51b7d"
            ],
            [
             0.2,
             "#de77ae"
            ],
            [
             0.3,
             "#f1b6da"
            ],
            [
             0.4,
             "#fde0ef"
            ],
            [
             0.5,
             "#f7f7f7"
            ],
            [
             0.6,
             "#e6f5d0"
            ],
            [
             0.7,
             "#b8e186"
            ],
            [
             0.8,
             "#7fbc41"
            ],
            [
             0.9,
             "#4d9221"
            ],
            [
             1,
             "#276419"
            ]
           ],
           "sequential": [
            [
             0,
             "#0d0887"
            ],
            [
             0.1111111111111111,
             "#46039f"
            ],
            [
             0.2222222222222222,
             "#7201a8"
            ],
            [
             0.3333333333333333,
             "#9c179e"
            ],
            [
             0.4444444444444444,
             "#bd3786"
            ],
            [
             0.5555555555555556,
             "#d8576b"
            ],
            [
             0.6666666666666666,
             "#ed7953"
            ],
            [
             0.7777777777777778,
             "#fb9f3a"
            ],
            [
             0.8888888888888888,
             "#fdca26"
            ],
            [
             1,
             "#f0f921"
            ]
           ],
           "sequentialminus": [
            [
             0,
             "#0d0887"
            ],
            [
             0.1111111111111111,
             "#46039f"
            ],
            [
             0.2222222222222222,
             "#7201a8"
            ],
            [
             0.3333333333333333,
             "#9c179e"
            ],
            [
             0.4444444444444444,
             "#bd3786"
            ],
            [
             0.5555555555555556,
             "#d8576b"
            ],
            [
             0.6666666666666666,
             "#ed7953"
            ],
            [
             0.7777777777777778,
             "#fb9f3a"
            ],
            [
             0.8888888888888888,
             "#fdca26"
            ],
            [
             1,
             "#f0f921"
            ]
           ]
          },
          "colorway": [
           "#636efa",
           "#EF553B",
           "#00cc96",
           "#ab63fa",
           "#FFA15A",
           "#19d3f3",
           "#FF6692",
           "#B6E880",
           "#FF97FF",
           "#FECB52"
          ],
          "font": {
           "color": "#2a3f5f"
          },
          "geo": {
           "bgcolor": "white",
           "lakecolor": "white",
           "landcolor": "#E5ECF6",
           "showlakes": true,
           "showland": true,
           "subunitcolor": "white"
          },
          "hoverlabel": {
           "align": "left"
          },
          "hovermode": "closest",
          "mapbox": {
           "style": "light"
          },
          "paper_bgcolor": "white",
          "plot_bgcolor": "#E5ECF6",
          "polar": {
           "angularaxis": {
            "gridcolor": "white",
            "linecolor": "white",
            "ticks": ""
           },
           "bgcolor": "#E5ECF6",
           "radialaxis": {
            "gridcolor": "white",
            "linecolor": "white",
            "ticks": ""
           }
          },
          "scene": {
           "xaxis": {
            "backgroundcolor": "#E5ECF6",
            "gridcolor": "white",
            "gridwidth": 2,
            "linecolor": "white",
            "showbackground": true,
            "ticks": "",
            "zerolinecolor": "white"
           },
           "yaxis": {
            "backgroundcolor": "#E5ECF6",
            "gridcolor": "white",
            "gridwidth": 2,
            "linecolor": "white",
            "showbackground": true,
            "ticks": "",
            "zerolinecolor": "white"
           },
           "zaxis": {
            "backgroundcolor": "#E5ECF6",
            "gridcolor": "white",
            "gridwidth": 2,
            "linecolor": "white",
            "showbackground": true,
            "ticks": "",
            "zerolinecolor": "white"
           }
          },
          "shapedefaults": {
           "line": {
            "color": "#2a3f5f"
           }
          },
          "ternary": {
           "aaxis": {
            "gridcolor": "white",
            "linecolor": "white",
            "ticks": ""
           },
           "baxis": {
            "gridcolor": "white",
            "linecolor": "white",
            "ticks": ""
           },
           "bgcolor": "#E5ECF6",
           "caxis": {
            "gridcolor": "white",
            "linecolor": "white",
            "ticks": ""
           }
          },
          "title": {
           "x": 0.05
          },
          "xaxis": {
           "automargin": true,
           "gridcolor": "white",
           "linecolor": "white",
           "ticks": "",
           "title": {
            "standoff": 15
           },
           "zerolinecolor": "white",
           "zerolinewidth": 2
          },
          "yaxis": {
           "automargin": true,
           "gridcolor": "white",
           "linecolor": "white",
           "ticks": "",
           "title": {
            "standoff": 15
           },
           "zerolinecolor": "white",
           "zerolinewidth": 2
          }
         }
        },
        "title": {
         "text": "Wide-Form Input"
        },
        "xaxis": {
         "anchor": "y",
         "domain": [
          0,
          1
         ],
         "title": {
          "text": "topic"
         }
        },
        "yaxis": {
         "anchor": "x",
         "domain": [
          0,
          1
         ],
         "title": {
          "text": "value"
         }
        }
       }
      }
     },
     "metadata": {},
     "output_type": "display_data"
    }
   ],
   "source": [
    "import plotly.express as px\n",
    "fig = px.bar(topic_graph, x=\"topic\", y=[\"Positive\", \"Neutral\", \"Mixed\",\"Negative\"], title=\"Wide-Form Input\")\n",
    "fig.show()"
   ]
  },
  {
   "cell_type": "code",
   "execution_count": null,
   "metadata": {},
   "outputs": [],
   "source": [
    "# subjectivity information how does it compare to the built"
   ]
  }
 ],
 "metadata": {
  "kernelspec": {
   "display_name": "Python 3.8.13 ('semantic_similarity')",
   "language": "python",
   "name": "python3"
  },
  "language_info": {
   "codemirror_mode": {
    "name": "ipython",
    "version": 3
   },
   "file_extension": ".py",
   "mimetype": "text/x-python",
   "name": "python",
   "nbconvert_exporter": "python",
   "pygments_lexer": "ipython3",
   "version": "3.8.13"
  },
  "orig_nbformat": 4,
  "vscode": {
   "interpreter": {
    "hash": "f48c2a4e05cf5de530ce7aec5f426fdf131a1126e41e99b5a2de656128f38b0b"
   }
  }
 },
 "nbformat": 4,
 "nbformat_minor": 2
}
