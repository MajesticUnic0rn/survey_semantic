{
 "cells": [
  {
   "cell_type": "code",
   "execution_count": null,
   "metadata": {},
   "outputs": [],
   "source": [
    "import pandas as pd\n",
    "import numpy as np\n",
    "from autocorrect import spell # autocorrect information\n",
    "import spacy # might useless - but is a useful package to implement < - \n",
    "from tqdm.auto import tqdm\n",
    "import helper\n",
    "from helper import *\n",
    "import plotly.graph_objects as go\n",
    "import plotly.express as px\n",
    "#tqdm.pandas()"
   ]
  },
  {
   "cell_type": "code",
   "execution_count": null,
   "metadata": {},
   "outputs": [],
   "source": [
    "input_survey=pd.read_csv('../data/WebsiteSatisfaction.csv')\n",
    "#start to rename the csv hard coding - throw exception if the required schema in the csv doesnt exist\n",
    "#drop the na and tell the business to get fucked \n",
    "input_survey.dropna(inplace=True)"
   ]
  },
  {
   "cell_type": "code",
   "execution_count": null,
   "metadata": {},
   "outputs": [],
   "source": [
    "import importlib\n",
    "importlib.reload(helper)"
   ]
  },
  {
   "cell_type": "markdown",
   "metadata": {},
   "source": [
    "# data engineering portion"
   ]
  },
  {
   "cell_type": "code",
   "execution_count": null,
   "metadata": {},
   "outputs": [],
   "source": [
    "#first implementation of pipe for pandas\n",
    "input_processed = (input_survey.\n",
    "pipe(spell_chcker,['Comments']).\n",
    "pipe(text_blob_polarity_semantic_eng,['Comments_spell_checked']).\n",
    "pipe(time_stamp_cleaner, 'ActivityCompleted')\n",
    ")"
   ]
  },
  {
   "cell_type": "code",
   "execution_count": null,
   "metadata": {},
   "outputs": [],
   "source": [
    "from classifier import TopicClassifier\n",
    "tags = [\"User Experience\", \"customer service\", \"equipment availability\", \n",
    "\"pricing error\", \n",
    "\"incorrect information\", \n",
    "\"login\", \n",
    "\"transaction\",\n",
    "\"complexity\"]\n",
    "zero_shot=TopicClassifier(tags) #model init first time is ruff."
   ]
  },
  {
   "cell_type": "code",
   "execution_count": null,
   "metadata": {},
   "outputs": [],
   "source": [
    "# topic classifier\n",
    "# input_processed[\"topic\"] = input_processed['Comments_spell_checked'].apply(zero_shot.top_prediction)"
   ]
  },
  {
   "cell_type": "markdown",
   "metadata": {},
   "source": [
    "# visualiation building"
   ]
  },
  {
   "cell_type": "code",
   "execution_count": null,
   "metadata": {},
   "outputs": [],
   "source": [
    "input_survey = pd.read_csv('../data/cleaned_data.csv') # testing notebook for already processed information\n"
   ]
  },
  {
   "cell_type": "code",
   "execution_count": null,
   "metadata": {},
   "outputs": [],
   "source": [
    "# charts and basic information that people might care about ->\n",
    "nps_best=' '.join(input_survey[input_survey['nps_score'] > 3 ].nlargest(n=50, columns=['Comments_spell_checked_txtblob_polarity','Comments_spell_checked_txtblob_polarity_subjectivity'])['Comments'])\n",
    "nps_worse=' '.join(input_survey[input_survey['nps_score'] < 3 ].nsmallest(n=50, columns=['Comments_spell_checked_txtblob_polarity','Comments_spell_checked_txtblob_polarity_subjectivity'])['Comments'])\n",
    "#destribute that text blurb to people about the issues occuring"
   ]
  },
  {
   "cell_type": "code",
   "execution_count": null,
   "metadata": {},
   "outputs": [],
   "source": [
    "sentiment_chart=input_survey.groupby('Sentiment').size()\n",
    "fig = px.pie(values=sentiment_chart,names=sentiment_chart.index,title='Semantic Count Overall')\n",
    "fig.show()"
   ]
  },
  {
   "cell_type": "code",
   "execution_count": null,
   "metadata": {},
   "outputs": [],
   "source": [
    "import plotly.graph_objects as go\n",
    "import plotly.express as px\n",
    "mean_nps_time=input_survey.groupby('ActivityCompleted').mean()\n",
    "fig = go.Figure(\n",
    "    [go.Scatter(x=mean_nps_time.index, y=mean_nps_time['nps_score'])],\n",
    "    layout=go.Layout(\n",
    "    title=go.layout.Title(text=\"Average Satisfaction Score\")\n",
    "    )  \n",
    ")\n",
    "fig.show()"
   ]
  },
  {
   "cell_type": "code",
   "execution_count": null,
   "metadata": {},
   "outputs": [],
   "source": [
    "topic_graph=pd.crosstab(input_survey.topic, input_survey.Sentiment ,normalize = 'index')\n",
    "topic_graph.reset_index(inplace=True)\n",
    "fig = px.bar(topic_graph, x=\"topic\", y=[\"Positive\", \"Neutral\", \"Mixed\",\"Negative\"], title=\"Wide-Form Input\")\n",
    "fig.show()"
   ]
  },
  {
   "cell_type": "code",
   "execution_count": null,
   "metadata": {},
   "outputs": [],
   "source": []
  }
 ],
 "metadata": {
  "kernelspec": {
   "display_name": "Python 3.8.13 ('semantic_similarity')",
   "language": "python",
   "name": "python3"
  },
  "language_info": {
   "codemirror_mode": {
    "name": "ipython",
    "version": 3
   },
   "file_extension": ".py",
   "mimetype": "text/x-python",
   "name": "python",
   "nbconvert_exporter": "python",
   "pygments_lexer": "ipython3",
   "version": "3.8.13"
  },
  "orig_nbformat": 4,
  "vscode": {
   "interpreter": {
    "hash": "f48c2a4e05cf5de530ce7aec5f426fdf131a1126e41e99b5a2de656128f38b0b"
   }
  }
 },
 "nbformat": 4,
 "nbformat_minor": 2
}
